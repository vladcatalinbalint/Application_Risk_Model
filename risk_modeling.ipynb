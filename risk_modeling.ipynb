{
 "cells": [
  {
   "cell_type": "code",
   "execution_count": 92,
   "id": "4d1ccf3b-e427-4d48-9cf9-151b68c115e8",
   "metadata": {},
   "outputs": [],
   "source": [
    "import itertools\n",
    "import warnings \n",
    "import re\n",
    "import pandas as pd\n",
    "import numpy as np\n",
    "from sklearn.linear_model import LogisticRegression, LassoCV\n",
    "from sklearn.feature_selection import RFE\n",
    "from sklearn.model_selection import train_test_split\n",
    "from sklearn.preprocessing import StandardScaler\n",
    "from sklearn.metrics import accuracy_score, precision_score, recall_score, f1_score, roc_auc_score, roc_curve\n",
    "from imblearn.over_sampling import RandomOverSampler\n",
    "import matplotlib.pyplot as plt\n",
    "import seaborn as sns\n",
    "import sympy\n",
    "from scipy.special import expit\n",
    "from scipy import stats\n",
    "from collections import OrderedDict\n",
    "from risk_helpers import *"
   ]
  },
  {
   "cell_type": "code",
   "execution_count": 93,
   "id": "e2d3c5e2-09bf-4684-91bf-824b6ebc871a",
   "metadata": {},
   "outputs": [],
   "source": [
    "%matplotlib inline\n",
    "pd.set_option('display.precision',2)\n",
    "pd.set_option('display.max_columns',None)\n",
    "pd.set_option('display.max_rows',None)\n",
    "pd.set_option('display.float_format',lambda x: '%.4f' % x)"
   ]
  },
  {
   "cell_type": "code",
   "execution_count": 94,
   "id": "5505bf00-b738-41b8-b239-bcc00c62d960",
   "metadata": {},
   "outputs": [],
   "source": [
    "df = pd.read_csv(r'C:\\Users\\Iulia\\Desktop\\CreditRisk\\german_credit_data.csv')"
   ]
  },
  {
   "cell_type": "code",
   "execution_count": 95,
   "id": "e8adacaa-4949-4bdb-b590-4d5709f1851a",
   "metadata": {},
   "outputs": [],
   "source": [
    "# Define the mapping\n",
    "mapping = {'good': 0, 'bad': 1}\n",
    "\n",
    "# Replace the values in the DataFrame column\n",
    "df['Risk'] = df['Risk'].replace(mapping)"
   ]
  },
  {
   "cell_type": "code",
   "execution_count": 96,
   "id": "d152379a-fad6-4084-b728-9b6ee7237a34",
   "metadata": {},
   "outputs": [
    {
     "name": "stdout",
     "output_type": "stream",
     "text": [
      "Age: 0.00%\n",
      "Sex: 0.00%\n",
      "Job: 0.00%\n",
      "Housing: 0.00%\n",
      "Saving accounts: 18.30%\n",
      "Checking account: 39.40%\n",
      "Credit amount: 0.00%\n",
      "Duration: 0.00%\n",
      "Purpose: 0.00%\n",
      "Risk: 0.00%\n"
     ]
    }
   ],
   "source": [
    "# Compute missing percentage\n",
    "missing_percentages = compute_missing_percentage(df)\n",
    "\n",
    "# Print missing percentages\n",
    "for column, percentage in missing_percentages.items():\n",
    "    print(f\"{column}: {percentage:.2f}%\")"
   ]
  },
  {
   "cell_type": "code",
   "execution_count": 97,
   "id": "ba1a82ca-46c8-4cb7-a3a8-b0be283f55cd",
   "metadata": {},
   "outputs": [],
   "source": [
    "# Delete features with missing percentage above 15%\n",
    "delete_features_above_threshold(df, 15)\n",
    "\n",
    "# Replace outliers with whiskers using default multiplier\n",
    "replace_outliers_with_whiskers(df)"
   ]
  },
  {
   "cell_type": "code",
   "execution_count": 98,
   "id": "bc572aa3-eb08-4a27-ad24-c3e3f6370e58",
   "metadata": {},
   "outputs": [],
   "source": [
    "# Define the target variable and independent variables\n",
    "target = 'Risk'\n",
    "independent_vars = list(df.columns[df.columns != target])\n",
    "\n",
    "# Split the data into training and validation sets\n",
    "train_data, valid_data = train_test_split(df, test_size=0.3, random_state=42)"
   ]
  },
  {
   "cell_type": "code",
   "execution_count": 99,
   "id": "a148d18e-0d94-4942-8020-105001e11646",
   "metadata": {},
   "outputs": [
    {
     "data": {
      "text/html": [
       "<div>\n",
       "<style scoped>\n",
       "    .dataframe tbody tr th:only-of-type {\n",
       "        vertical-align: middle;\n",
       "    }\n",
       "\n",
       "    .dataframe tbody tr th {\n",
       "        vertical-align: top;\n",
       "    }\n",
       "\n",
       "    .dataframe thead th {\n",
       "        text-align: right;\n",
       "    }\n",
       "</style>\n",
       "<table border=\"1\" class=\"dataframe\">\n",
       "  <thead>\n",
       "    <tr style=\"text-align: right;\">\n",
       "      <th></th>\n",
       "      <th>Age</th>\n",
       "      <th>Sex</th>\n",
       "      <th>Job</th>\n",
       "      <th>Housing</th>\n",
       "      <th>Credit amount</th>\n",
       "      <th>Duration</th>\n",
       "      <th>Purpose</th>\n",
       "      <th>Risk</th>\n",
       "    </tr>\n",
       "  </thead>\n",
       "  <tbody>\n",
       "    <tr>\n",
       "      <th>541</th>\n",
       "      <td>60.0000</td>\n",
       "      <td>male</td>\n",
       "      <td>2.0000</td>\n",
       "      <td>free</td>\n",
       "      <td>2032.0000</td>\n",
       "      <td>24.0000</td>\n",
       "      <td>car</td>\n",
       "      <td>0</td>\n",
       "    </tr>\n",
       "    <tr>\n",
       "      <th>440</th>\n",
       "      <td>39.0000</td>\n",
       "      <td>male</td>\n",
       "      <td>2.0000</td>\n",
       "      <td>own</td>\n",
       "      <td>1884.0000</td>\n",
       "      <td>12.0000</td>\n",
       "      <td>car</td>\n",
       "      <td>0</td>\n",
       "    </tr>\n",
       "    <tr>\n",
       "      <th>482</th>\n",
       "      <td>57.0000</td>\n",
       "      <td>female</td>\n",
       "      <td>2.0000</td>\n",
       "      <td>rent</td>\n",
       "      <td>3622.0000</td>\n",
       "      <td>30.0000</td>\n",
       "      <td>furniture/equipment</td>\n",
       "      <td>0</td>\n",
       "    </tr>\n",
       "    <tr>\n",
       "      <th>422</th>\n",
       "      <td>47.0000</td>\n",
       "      <td>male</td>\n",
       "      <td>2.0000</td>\n",
       "      <td>own</td>\n",
       "      <td>958.0000</td>\n",
       "      <td>12.0000</td>\n",
       "      <td>car</td>\n",
       "      <td>0</td>\n",
       "    </tr>\n",
       "    <tr>\n",
       "      <th>778</th>\n",
       "      <td>38.0000</td>\n",
       "      <td>male</td>\n",
       "      <td>2.0000</td>\n",
       "      <td>own</td>\n",
       "      <td>5711.0000</td>\n",
       "      <td>36.0000</td>\n",
       "      <td>car</td>\n",
       "      <td>0</td>\n",
       "    </tr>\n",
       "  </tbody>\n",
       "</table>\n",
       "</div>"
      ],
      "text/plain": [
       "        Age     Sex    Job Housing  Credit amount  Duration  \\\n",
       "541 60.0000    male 2.0000    free      2032.0000   24.0000   \n",
       "440 39.0000    male 2.0000     own      1884.0000   12.0000   \n",
       "482 57.0000  female 2.0000    rent      3622.0000   30.0000   \n",
       "422 47.0000    male 2.0000     own       958.0000   12.0000   \n",
       "778 38.0000    male 2.0000     own      5711.0000   36.0000   \n",
       "\n",
       "                 Purpose  Risk  \n",
       "541                  car     0  \n",
       "440                  car     0  \n",
       "482  furniture/equipment     0  \n",
       "422                  car     0  \n",
       "778                  car     0  "
      ]
     },
     "execution_count": 99,
     "metadata": {},
     "output_type": "execute_result"
    }
   ],
   "source": [
    "# Fill missing values with median for numeric and mode for categorical\n",
    "fill_missing_values(train_data)\n",
    "fill_missing_values(valid_data)\n",
    "\n",
    "# Check the resulting dataframe\n",
    "train_data.head()"
   ]
  },
  {
   "cell_type": "code",
   "execution_count": 100,
   "id": "ae475eb6-b4d9-4723-9834-b25352cf0fa4",
   "metadata": {},
   "outputs": [],
   "source": [
    "# Obtain the WoE dictionary using woe_transform_dataframe\n",
    "woe_dict = woe_transform_dataframe(train_data, target_col=target, event=1, bins=10)"
   ]
  },
  {
   "cell_type": "code",
   "execution_count": 101,
   "id": "1cfa7978-c01a-48e9-adae-0edc0acf9ae0",
   "metadata": {},
   "outputs": [],
   "source": [
    "# Transform the original DataFrame using the WoE dictionary\n",
    "transformed_df = transform_to_woe(train_data, woe_dict)\n",
    "\n",
    "# Assuming 'validation_df' is your validation dataset and 'woe_dict' is the WoE dictionary obtained from the training dataset\n",
    "transformed_valid_df = transform_to_woe(valid_data, woe_dict)"
   ]
  },
  {
   "cell_type": "code",
   "execution_count": 102,
   "id": "96f5651b-29ea-4e59-b583-fcab8a3836f7",
   "metadata": {},
   "outputs": [
    {
     "data": {
      "text/html": [
       "<div>\n",
       "<style scoped>\n",
       "    .dataframe tbody tr th:only-of-type {\n",
       "        vertical-align: middle;\n",
       "    }\n",
       "\n",
       "    .dataframe tbody tr th {\n",
       "        vertical-align: top;\n",
       "    }\n",
       "\n",
       "    .dataframe thead th {\n",
       "        text-align: right;\n",
       "    }\n",
       "</style>\n",
       "<table border=\"1\" class=\"dataframe\">\n",
       "  <thead>\n",
       "    <tr style=\"text-align: right;\">\n",
       "      <th></th>\n",
       "      <th>Age</th>\n",
       "      <th>Sex</th>\n",
       "      <th>Job</th>\n",
       "      <th>Housing</th>\n",
       "      <th>Credit amount</th>\n",
       "      <th>Duration</th>\n",
       "      <th>Purpose</th>\n",
       "      <th>Risk</th>\n",
       "    </tr>\n",
       "  </thead>\n",
       "  <tbody>\n",
       "    <tr>\n",
       "      <th>541</th>\n",
       "      <td>-0.7214</td>\n",
       "      <td>-0.1411</td>\n",
       "      <td>0.0000</td>\n",
       "      <td>0.6428</td>\n",
       "      <td>-0.2665</td>\n",
       "      <td>-0.0214</td>\n",
       "      <td>0.1485</td>\n",
       "      <td>0</td>\n",
       "    </tr>\n",
       "    <tr>\n",
       "      <th>440</th>\n",
       "      <td>-0.2880</td>\n",
       "      <td>-0.1411</td>\n",
       "      <td>0.0000</td>\n",
       "      <td>-0.2181</td>\n",
       "      <td>-0.2665</td>\n",
       "      <td>-0.2296</td>\n",
       "      <td>0.1485</td>\n",
       "      <td>0</td>\n",
       "    </tr>\n",
       "    <tr>\n",
       "      <th>482</th>\n",
       "      <td>NaN</td>\n",
       "      <td>0.2803</td>\n",
       "      <td>0.0000</td>\n",
       "      <td>0.3868</td>\n",
       "      <td>-0.4958</td>\n",
       "      <td>0.0518</td>\n",
       "      <td>-0.0802</td>\n",
       "      <td>0</td>\n",
       "    </tr>\n",
       "    <tr>\n",
       "      <th>422</th>\n",
       "      <td>-0.2445</td>\n",
       "      <td>-0.1411</td>\n",
       "      <td>0.0000</td>\n",
       "      <td>-0.2181</td>\n",
       "      <td>-0.1755</td>\n",
       "      <td>-0.2296</td>\n",
       "      <td>0.1485</td>\n",
       "      <td>0</td>\n",
       "    </tr>\n",
       "    <tr>\n",
       "      <th>778</th>\n",
       "      <td>-0.2880</td>\n",
       "      <td>-0.1411</td>\n",
       "      <td>0.0000</td>\n",
       "      <td>-0.2181</td>\n",
       "      <td>NaN</td>\n",
       "      <td>0.7874</td>\n",
       "      <td>0.1485</td>\n",
       "      <td>0</td>\n",
       "    </tr>\n",
       "  </tbody>\n",
       "</table>\n",
       "</div>"
      ],
      "text/plain": [
       "        Age     Sex    Job  Housing  Credit amount  Duration  Purpose  Risk\n",
       "541 -0.7214 -0.1411 0.0000   0.6428        -0.2665   -0.0214   0.1485     0\n",
       "440 -0.2880 -0.1411 0.0000  -0.2181        -0.2665   -0.2296   0.1485     0\n",
       "482     NaN  0.2803 0.0000   0.3868        -0.4958    0.0518  -0.0802     0\n",
       "422 -0.2445 -0.1411 0.0000  -0.2181        -0.1755   -0.2296   0.1485     0\n",
       "778 -0.2880 -0.1411 0.0000  -0.2181            NaN    0.7874   0.1485     0"
      ]
     },
     "execution_count": 102,
     "metadata": {},
     "output_type": "execute_result"
    }
   ],
   "source": [
    "transformed_df.head()"
   ]
  },
  {
   "cell_type": "code",
   "execution_count": 103,
   "id": "21f5df1a-29bc-4720-a16e-4fc9cc840094",
   "metadata": {},
   "outputs": [],
   "source": [
    "# Fill missing values with median for numeric and mode for categorical\n",
    "fill_missing_values(transformed_df)\n",
    "fill_missing_values(transformed_valid_df)"
   ]
  },
  {
   "cell_type": "code",
   "execution_count": 104,
   "id": "59122ffe-a926-4bc7-bbb8-b143128a2a80",
   "metadata": {},
   "outputs": [
    {
     "data": {
      "text/plain": [
       "0.0000    700\n",
       "Name: Job, dtype: int64"
      ]
     },
     "execution_count": 104,
     "metadata": {},
     "output_type": "execute_result"
    }
   ],
   "source": [
    "transformed_df.Job.value_counts(dropna=False)\n",
    "# only one category, but it will be dropped by Lasson further on anyway\n",
    "# independent_vars = [index for index in independent_vars if str(index) != 'Job']"
   ]
  },
  {
   "cell_type": "code",
   "execution_count": 105,
   "id": "e56c7f97-7837-4367-826b-17e566db771f",
   "metadata": {},
   "outputs": [
    {
     "name": "stdout",
     "output_type": "stream",
     "text": [
      "Accuracy: 0.6142857142857143\n"
     ]
    },
    {
     "data": {
      "text/plain": [
       "Index(['Age', 'Sex', 'Housing', 'Credit amount', 'Duration', 'Purpose'], dtype='object')"
      ]
     },
     "execution_count": 105,
     "metadata": {},
     "output_type": "execute_result"
    }
   ],
   "source": [
    "# Step 2: Split your data into training and testing sets\n",
    "X = transformed_df.drop('Risk', axis=1)  # X contains the independent variables\n",
    "y = transformed_df['Risk']  # y contains the target variable\n",
    "\n",
    "X_train, X_test, y_train, y_test = train_test_split(X, y, test_size=0.2, random_state=42)\n",
    "\n",
    "# Step 3: Address the class imbalance\n",
    "# Use oversampling techniques to increase the minority class samples\n",
    "oversampler = RandomOverSampler(random_state=42)\n",
    "X_train_resampled, y_train_resampled = oversampler.fit_resample(X_train, y_train)\n",
    "\n",
    "# Step 4: Feature selection with Lasso\n",
    "lasso = LassoCV(cv=5)  # LassoCV performs cross-validation to determine the optimal alpha\n",
    "lasso.fit(X_train_resampled, y_train_resampled)\n",
    "\n",
    "# Step 5: Determine the optimal regularization parameter\n",
    "best_alpha = lasso.alpha_\n",
    "\n",
    "# Step 6: Select features\n",
    "selected_features = X.columns[lasso.coef_ != 0]  # Features with non-zero coefficients\n",
    "\n",
    "# Step 7: Build your scorecard model\n",
    "model = LogisticRegression()\n",
    "model.fit(X_train_resampled[selected_features], y_train_resampled)\n",
    "\n",
    "# Step 8: Evaluate model performance\n",
    "y_pred = model.predict(X_test[selected_features])\n",
    "accuracy = accuracy_score(y_test, y_pred)\n",
    "print(\"Accuracy:\", accuracy)\n",
    "\n",
    "selected_features\n",
    "# Based on the performance, you can refine your feature selection process, adjust the oversampling technique, or explore other modeling techniques specifically designed for imbalanced datasets."
   ]
  },
  {
   "cell_type": "code",
   "execution_count": 120,
   "id": "6187bbee-3bc6-4e75-b4ac-3992203ebb35",
   "metadata": {},
   "outputs": [
    {
     "data": {
      "image/png": "[encoded data removed]",
      "text/plain": [
       "<Figure size 432x288 with 1 Axes>"
      ]
     },
     "metadata": {
      "needs_background": "light"
     },
     "output_type": "display_data"
    },
    {
     "name": "stdout",
     "output_type": "stream",
     "text": [
      "Sensitivity Value: 0.7\n",
      "Accuracy: 0.6133333333333333\n",
      "Precision: 0.39669421487603307\n",
      "Recall: 0.5274725274725275\n",
      "F1 Score: 0.4528301886792453\n",
      "AUC: 0.620143014879857\n",
      "-------------------------------------\n",
      "Sensitivity Value: 1.0\n",
      "Accuracy: 0.6066666666666667\n",
      "Precision: 0.3865546218487395\n",
      "Recall: 0.5054945054945055\n",
      "F1 Score: 0.4380952380952381\n",
      "AUC: 0.612413901887586\n",
      "-------------------------------------\n",
      "Sensitivity Value: 1.3\n",
      "Accuracy: 0.58\n",
      "Precision: 0.36220472440944884\n",
      "Recall: 0.5054945054945055\n",
      "F1 Score: 0.4220183486238532\n",
      "AUC: 0.6052631578947368\n",
      "-------------------------------------\n"
     ]
    }
   ],
   "source": [
    "# Split your data into training and testing sets\n",
    "X = transformed_df[selected_features]\n",
    "y = transformed_df[target]\n",
    "\n",
    "X_train, X_test, y_train, y_test = train_test_split(X, y, test_size=0.2, random_state=42)\n",
    "\n",
    "# Define the weights for each class\n",
    "class_counts = y_train.value_counts()\n",
    "total_samples = len(y_train)\n",
    "\n",
    "# Calculate the weight for each class\n",
    "weight_0 = total_samples / (2 * class_counts[0])\n",
    "weight_1 = total_samples / (2 * class_counts[1]) \n",
    "\n",
    "model = LogisticRegression(class_weight={0: weight_0, 1: weight_1})\n",
    "model.fit(X_train, y_train)\n",
    "\n",
    "# Model validation\n",
    "X_valid = transformed_valid_df[selected_features]\n",
    "y_valid = transformed_valid_df[target]\n",
    "y_pred = model.predict(X_valid)\n",
    "\n",
    "# Convert predictions to 1 for values above or equal to the threshold\n",
    "# threshold = 0.7\n",
    "# y_pred = np.where(y_pred >= threshold, 1, y_pred)\n",
    "y_pred_proba = model.predict_proba(X_valid)[:, 1]\n",
    "\n",
    "# Calculate performance metrics\n",
    "accuracy = accuracy_score(y_valid, y_pred)\n",
    "precision = precision_score(y_valid, y_pred, zero_division=1)\n",
    "recall = recall_score(y_valid, y_pred)\n",
    "f1 = f1_score(y_valid, y_pred)\n",
    "auc = roc_auc_score(y_valid, y_pred_proba)\n",
    "\n",
    "# Plot ROC curve\n",
    "fpr, tpr, _ = roc_curve(y_valid, y_pred_proba)\n",
    "plt.figure()\n",
    "plt.plot(fpr, tpr, label='Logistic Regression (AUC = {:.2f})'.format(auc))\n",
    "plt.plot([0, 1], [0, 1], 'k--')\n",
    "plt.xlabel('False Positive Rate')\n",
    "plt.ylabel('True Positive Rate')\n",
    "plt.title('Receiver Operating Characteristic (ROC) Curve')\n",
    "plt.legend(loc='lower right')\n",
    "plt.show()\n",
    "\n",
    "# Perform sensitivity analysis (example with age variable)\n",
    "sensitivity_variable = 'Age'\n",
    "sensitivity_values = [0.7, 1.0, 1.3]  # Adjust the variable by 10% in each case\n",
    "\n",
    "for value in sensitivity_values:\n",
    "    X_sensitivity = transformed_valid_df[selected_features].copy()\n",
    "    X_sensitivity[sensitivity_variable] *= value  # Adjust the variable\n",
    "    y_sensitivity = transformed_valid_df[target]\n",
    "    \n",
    "    # Calculate performance metrics for sensitivity analysis\n",
    "    y_pred_sensitivity = model.predict(X_sensitivity)\n",
    "    y_pred_proba_sensitivity = model.predict_proba(X_sensitivity)[:, 1]\n",
    "    accuracy_sensitivity = accuracy_score(y_sensitivity, y_pred_sensitivity)\n",
    "    precision_sensitivity = precision_score(y_sensitivity, y_pred_sensitivity)\n",
    "    recall_sensitivity = recall_score(y_sensitivity, y_pred_sensitivity)\n",
    "    f1_sensitivity = f1_score(y_sensitivity, y_pred_sensitivity)\n",
    "    auc_sensitivity = roc_auc_score(y_sensitivity, y_pred_proba_sensitivity)\n",
    "\n",
    "    print(f\"Sensitivity Value: {value}\")\n",
    "    print(f\"Accuracy: {accuracy_sensitivity}\")\n",
    "    print(f\"Precision: {precision_sensitivity}\")\n",
    "    print(f\"Recall: {recall_sensitivity}\")\n",
    "    print(f\"F1 Score: {f1_sensitivity}\")\n",
    "    print(f\"AUC: {auc_sensitivity}\")\n",
    "    print(\"-------------------------------------\")"
   ]
  },
  {
   "cell_type": "code",
   "execution_count": 108,
   "id": "4013b04a-b99d-4790-82a8-7b96c753c81b",
   "metadata": {},
   "outputs": [
    {
     "name": "stdout",
     "output_type": "stream",
     "text": [
      "Frequencies for column 'Age':\n",
      "0.0024    0.2167\n",
      "0.3110    0.2100\n",
      "-0.1778   0.1833\n",
      "0.5578    0.1233\n",
      "-0.2880   0.0833\n",
      "-0.3499   0.0800\n",
      "-0.7214   0.0533\n",
      "-0.2445   0.0500\n",
      "Name: Age, dtype: float64\n",
      "\n",
      "Frequencies for column 'Sex':\n",
      "-0.1411   0.7067\n",
      "0.2803    0.2933\n",
      "Name: Sex, dtype: float64\n",
      "\n",
      "Frequencies for column 'Housing':\n",
      "-0.2181   0.7033\n",
      "0.3868    0.1900\n",
      "0.6428    0.1067\n",
      "Name: Housing, dtype: float64\n",
      "\n",
      "Frequencies for column 'Credit amount':\n",
      "-0.0781   0.2500\n",
      "-0.1755   0.2233\n",
      "-0.2665   0.1800\n",
      "-0.3160   0.1267\n",
      "0.6357    0.1133\n",
      "-0.4958   0.1067\n",
      "Name: Credit amount, dtype: float64\n",
      "\n",
      "Frequencies for column 'Duration':\n",
      "-0.2296   0.2433\n",
      "-0.0214   0.2167\n",
      "0.1217    0.1267\n",
      "-1.2253   0.1100\n",
      "-0.3780   0.1033\n",
      "0.8541    0.0767\n",
      "0.7874    0.0767\n",
      "0.0518    0.0467\n",
      "Name: Duration, dtype: float64\n",
      "\n",
      "Frequencies for column 'Purpose':\n",
      "0.1485    0.3167\n",
      "-0.5137   0.2600\n",
      "-0.0802   0.2133\n",
      "0.3841    0.1067\n",
      "0.5822    0.0733\n",
      "-0.0214   0.0167\n",
      "0.4486    0.0067\n",
      "0.8541    0.0067\n",
      "Name: Purpose, dtype: float64\n",
      "\n"
     ]
    }
   ],
   "source": [
    "def calculate_frequencies(df):\n",
    "    frequencies = {}\n",
    "    \n",
    "    for col in df.columns:\n",
    "        values = df[col].value_counts(normalize=True)\n",
    "        frequencies[col] = values\n",
    "    \n",
    "    return frequencies\n",
    "\n",
    "freq_counts = calculate_frequencies(X_valid)\n",
    "for col, values in freq_counts.items():\n",
    "    print(f\"Frequencies for column '{col}':\")\n",
    "    print(values)\n",
    "    print()"
   ]
  },
  {
   "cell_type": "code",
   "execution_count": 109,
   "id": "2e839d35-d2b7-4432-b5ac-b9a0ac0019a5",
   "metadata": {},
   "outputs": [
    {
     "data": {
      "image/png": "[encoded data removed]",
      "text/plain": [
       "<Figure size 432x288 with 1 Axes>"
      ]
     },
     "metadata": {
      "needs_background": "light"
     },
     "output_type": "display_data"
    }
   ],
   "source": [
    "# Define the observed and expected frequencies\n",
    "observed_freq = y_valid\n",
    "expected_freq = y_pred\n",
    "\n",
    "# Compute the fraction of positives and mean predicted values\n",
    "fraction_of_positives = np.cumsum(observed_freq) / np.sum(observed_freq)\n",
    "mean_predicted_value = np.cumsum(expected_freq) / np.sum(expected_freq) + 1e-8\n",
    "\n",
    "# Plot the calibration curve\n",
    "plt.plot(mean_predicted_value, fraction_of_positives, marker='o', linestyle='-', color='blue')\n",
    "plt.plot([0, 1], [0, 1], linestyle='--', color='gray')\n",
    "plt.xlabel('Mean Predicted Value')\n",
    "plt.ylabel('Fraction of Positives')\n",
    "plt.title('Calibration Curve')\n",
    "plt.show()"
   ]
  },
  {
   "cell_type": "code",
   "execution_count": 110,
   "id": "c1303af6-7cf3-44c4-ba16-0fb556725178",
   "metadata": {},
   "outputs": [
    {
     "data": {
      "text/plain": [
       "\"If the calibration curve appears to be aligned closely with the diagonal dashed line, it suggests good calibration. This alignment indicates that the predicted probabilities are well-calibrated and correspond well with the observed frequencies.\\n\\nIn such a case, even if the p-value from the Hosmer-Lemeshow test is NaN or cannot be computed, it does not necessarily imply a problem with the calibration. The visual inspection of the calibration plot is often sufficient to assess the calibration quality.\\n\\nTherefore, based on the aligned calibration curve, you can conclude that the model's predicted probabilities are well-calibrated and provide accurate estimates of the probabilities of the events.\""
      ]
     },
     "execution_count": 110,
     "metadata": {},
     "output_type": "execute_result"
    }
   ],
   "source": [
    "\"\"\"If the calibration curve appears to be aligned closely with the diagonal dashed line, it suggests good calibration. This alignment indicates that the predicted probabilities are well-calibrated and correspond well with the observed frequencies.\n",
    "\n",
    "In such a case, even if the p-value from the Hosmer-Lemeshow test is NaN or cannot be computed, it does not necessarily imply a problem with the calibration. The visual inspection of the calibration plot is often sufficient to assess the calibration quality.\n",
    "\n",
    "Therefore, based on the aligned calibration curve, you can conclude that the model's predicted probabilities are well-calibrated and provide accurate estimates of the probabilities of the events.\"\"\""
   ]
  },
  {
   "cell_type": "markdown",
   "id": "44e99788-7734-4e0d-a6b0-c5732d3aa634",
   "metadata": {},
   "source": [
    "### Check if the log-odds are widely distributed"
   ]
  },
  {
   "cell_type": "code",
   "execution_count": 111,
   "id": "3200f322-d00a-441f-aa3f-aecbf0945b66",
   "metadata": {},
   "outputs": [
    {
     "data": {
      "image/png": "[encoded data removed]",
      "text/plain": [
       "<Figure size 432x288 with 1 Axes>"
      ]
     },
     "metadata": {
      "needs_background": "light"
     },
     "output_type": "display_data"
    },
    {
     "data": {
      "image/png": "[encoded data removed]",
      "text/plain": [
       "<Figure size 432x288 with 1 Axes>"
      ]
     },
     "metadata": {
      "needs_background": "light"
     },
     "output_type": "display_data"
    }
   ],
   "source": [
    "# Define the desired score range\n",
    "score_min = 400\n",
    "score_max = 800\n",
    "\n",
    "# Define the target log odds doubling interval\n",
    "log_odds_interval = 10\n",
    "\n",
    "# Calculate the target log odds doubling factor\n",
    "target_log_odds_factor = np.log(2)\n",
    "\n",
    "# Calculate the log odds\n",
    "log_odds = np.log(y_pred_proba / (1 - y_pred_proba))\n",
    "\n",
    "# Plot the distribution of log odds\n",
    "plt.hist(log_odds, bins=20)\n",
    "plt.xlabel('Log Odds')\n",
    "plt.ylabel('Frequency')\n",
    "plt.title('Distribution of Log Odds')\n",
    "plt.show()\n",
    "\n",
    "# Plot the distribution of predicted probabilities\n",
    "plt.hist(y_pred_proba, bins=20)\n",
    "plt.xlabel('Predicted Probabilities')\n",
    "plt.ylabel('Frequency')\n",
    "plt.title('Distribution of Predicted Probabilities')\n",
    "plt.show()"
   ]
  },
  {
   "cell_type": "code",
   "execution_count": 112,
   "id": "c96af3a2-79c8-424c-8e74-bf6d83647a22",
   "metadata": {},
   "outputs": [],
   "source": [
    "# Define the desired score range\n",
    "score_min = 400\n",
    "score_max = 800\n",
    "\n",
    "# Define the target log odds doubling interval\n",
    "log_odds_interval = 10\n",
    "\n",
    "# Calculate the target log odds doubling factor\n",
    "target_log_odds_factor = np.log(2)\n",
    "\n",
    "# # Calculate the log odds\n",
    "# log_odds = np.log(y_pred_proba / (1 - y_pred_proba))\n",
    "\n",
    "# # Calculate the scaling factor for mapping the log odds to the score range\n",
    "# scaling_factor = (score_max - score_min) / (target_log_odds_factor * (score_max - score_min) / log_odds_interval)\n",
    "\n",
    "# # Calculate the intercept for adjusting the scores\n",
    "# intercept = score_min - (scaling_factor * np.min(log_odds) // log_odds_interval) * log_odds_interval\n",
    "\n",
    "# Calculate the logits (inverse of the logistic function)\n",
    "logits = np.log(y_pred_proba / (1 - y_pred_proba))\n",
    "\n",
    "# Apply the logistic function (sigmoid) to the logits\n",
    "prob_transformed = expit(logits)\n",
    "\n",
    "# Map the transformed probabilities to the score range\n",
    "scores = np.round(prob_transformed * (score_max - score_min) + score_min).astype(int)"
   ]
  },
  {
   "cell_type": "code",
   "execution_count": 113,
   "id": "c3cbe798-d768-432a-9f0c-9eb33224189d",
   "metadata": {},
   "outputs": [],
   "source": [
    "score_letters = []\n",
    "\n",
    "for score in scores:\n",
    "    if score < 500:\n",
    "        score_letters.append('A')\n",
    "    elif score < 550:\n",
    "        score_letters.append('B')\n",
    "    elif score < 600:\n",
    "        score_letters.append('C')\n",
    "    elif score < 650:\n",
    "        score_letters.append('D')\n",
    "    elif score < 700:\n",
    "        score_letters.append('E')\n",
    "    elif score < 750:\n",
    "        score_letters.append('F')\n",
    "    elif score <= 800:\n",
    "        score_letters.append('G')\n",
    "    else:\n",
    "        score_letters.append('H')"
   ]
  },
  {
   "cell_type": "code",
   "execution_count": 114,
   "id": "2e0c186b-d9c0-433c-b614-67484cee6292",
   "metadata": {},
   "outputs": [
    {
     "data": {
      "image/png": "[encoded data removed]",
      "text/plain": [
       "<Figure size 720x432 with 2 Axes>"
      ]
     },
     "metadata": {
      "needs_background": "light"
     },
     "output_type": "display_data"
    }
   ],
   "source": [
    "import numpy as np\n",
    "import matplotlib.pyplot as plt\n",
    "\n",
    "# Calculate the number of observations in each letter bin\n",
    "letter_counts = {letter: score_letters.count(letter) for letter in sorted(set(score_letters))}\n",
    "\n",
    "# Calculate the average PD in each letter bin\n",
    "letter_avg_pds = {letter: np.mean(y_pred_proba[np.array(score_letters) == letter]) for letter in sorted(set(score_letters))}\n",
    "\n",
    "# Calculate the default rate in each letter bin\n",
    "letter_default_rates = {letter: np.mean(y_valid[np.array(score_letters) == letter]) for letter in sorted(set(score_letters))}\n",
    "\n",
    "# Create a list to store the x-axis values\n",
    "x = sorted(set(score_letters))\n",
    "\n",
    "# Create a list to store the y-axis values for letter counts\n",
    "counts = [letter_counts[letter] for letter in x]\n",
    "\n",
    "# Create a list to store the y-axis values for average PDs\n",
    "avg_pds = [letter_avg_pds[letter] for letter in x]\n",
    "\n",
    "# Create a list to store the y-axis values for default rates\n",
    "default_rates = [letter_default_rates[letter] for letter in x]\n",
    "\n",
    "# Create a figure with two y-axes\n",
    "fig, ax1 = plt.subplots(figsize=(10, 6))\n",
    "ax2 = ax1.twinx()\n",
    "\n",
    "# Plot the number of observations in each letter bin\n",
    "ax1.bar(x, counts, color='blue', alpha=0.7, label='Number of Observations')\n",
    "ax1.set_ylabel('Number of Observations')\n",
    "ax1.set_ylim(0, max(counts) * 1.1)\n",
    "\n",
    "# Plot the average PD in each letter bin\n",
    "ax2.plot(x, avg_pds, marker='o', color='green', label='Average PD')\n",
    "ax2.set_ylabel('Average Probability of Default (PD)')\n",
    "ax2.set_ylim(0, 1)\n",
    "\n",
    "# Plot the default rate in each letter bin\n",
    "ax2.plot(x, default_rates, marker='o', color='red', label='Default Rate')\n",
    "\n",
    "# Set labels and title\n",
    "ax1.set_xlabel('Score Letter')\n",
    "ax1.set_title('Number of Observations and Average/Default Rate across Score Letter Bins')\n",
    "\n",
    "# Add legend\n",
    "lines, labels = ax1.get_legend_handles_labels()\n",
    "lines2, labels2 = ax2.get_legend_handles_labels()\n",
    "ax2.legend(lines + lines2, labels + labels2, loc='upper left')\n",
    "\n",
    "# Show the plot\n",
    "plt.show()\n"
   ]
  },
  {
   "cell_type": "code",
   "execution_count": 115,
   "id": "c331deee-b6fa-4fec-94ff-31579d3c9170",
   "metadata": {},
   "outputs": [
    {
     "data": {
      "image/png": "[encoded data removed]",
      "text/plain": [
       "<Figure size 720x432 with 2 Axes>"
      ]
     },
     "metadata": {
      "needs_background": "light"
     },
     "output_type": "display_data"
    }
   ],
   "source": [
    "# Create a DataFrame with scores, y_pred_proba, and y_valid\n",
    "data = pd.DataFrame({'Score': scores, 'PD': y_pred_proba, 'Default': y_valid})\n",
    "\n",
    "# Define the number of bins and bin width\n",
    "num_bins = 10\n",
    "bin_width = (score_max - score_min) / num_bins\n",
    "\n",
    "# Create a new column in the DataFrame to represent the bins\n",
    "data['Bin'] = pd.cut(data['Score'], bins=num_bins, labels=False)\n",
    "\n",
    "# Calculate the bin frequencies\n",
    "bin_counts = data['Bin'].value_counts().sort_index()\n",
    "\n",
    "# Group the data by the bin and calculate the average PD and default rate\n",
    "bin_stats = data.groupby('Bin').agg({'PD': 'mean', 'Default': 'mean'})\n",
    "\n",
    "# Create a list of bin boundaries for plotting\n",
    "bin_boundaries = [score_min + i * bin_width for i in range(num_bins+1)]\n",
    "\n",
    "# Calculate the bar width and position\n",
    "bar_width = bin_width * 0.8\n",
    "bar_position = np.array(bin_boundaries[:-1]) + bin_width * 0.1\n",
    "\n",
    "# Create a figure with two y-axes\n",
    "fig, ax1 = plt.subplots(figsize=(10, 6))\n",
    "ax2 = ax1.twinx()\n",
    "\n",
    "# Plot the bin frequencies as a bar plot with separation\n",
    "ax1.bar(bar_position, bin_counts, width=bar_width, align='center', color='blue', alpha=0.7, label='Bin Frequency')\n",
    "ax1.set_ylabel('Frequency')\n",
    "\n",
    "# Set the x-axis tick labels as the bin boundaries\n",
    "ax1.set_xticks(bin_boundaries[:-1])\n",
    "ax1.set_xticklabels([str(int(boundary)) for boundary in bin_boundaries[:-1]])\n",
    "\n",
    "# Plot the average PD as a line\n",
    "ax2.plot(bin_boundaries[:-1], bin_stats['PD'], marker='o', color='green', label='Average PD')\n",
    "ax2.set_ylabel('Probability of Default (PD)')\n",
    "ax2.set_ylim(0, 1)\n",
    "\n",
    "# Plot the default rate as a line\n",
    "ax2.plot(bin_boundaries[:-1], bin_stats['Default'], marker='o', color='red', label='Default Rate')\n",
    "\n",
    "# Set labels and title\n",
    "ax1.set_xlabel('Score Bins')\n",
    "ax1.set_title('Bin Frequency, Average PD, and Default Rate by Score Bins')\n",
    "\n",
    "# Add legend\n",
    "lines, labels = ax1.get_legend_handles_labels()\n",
    "lines2, labels2 = ax2.get_legend_handles_labels()\n",
    "ax2.legend(lines + lines2, labels + labels2, loc='upper right')\n",
    "\n",
    "# Show the plot\n",
    "plt.show()"
   ]
  },
  {
   "cell_type": "code",
   "execution_count": 116,
   "id": "f333ff1a-04c3-4c23-86f1-38b6a8de2f70",
   "metadata": {},
   "outputs": [],
   "source": [
    "# # Example usage\n",
    "# # Suppose you have a DataFrame with expected frequencies and another DataFrame with observed frequencies\n",
    "# expected_df = pd.DataFrame({\n",
    "#     'Feature1': [100, 200, 300, 400, 500],\n",
    "#     'Feature2': [50, 150, 250, 350, 450]\n",
    "# })\n",
    "\n",
    "# observed_df = pd.DataFrame({\n",
    "#     'Feature1': [110, 190, 320, 380, 510],\n",
    "#     'Feature2': [60, 140, 260, 370, 480]\n",
    "# })\n",
    "\n",
    "# psi_results = calculate_psi_dataframe(observed_df, expected_df)\n",
    "# print(psi_results)"
   ]
  },
  {
   "cell_type": "code",
   "execution_count": 117,
   "id": "ac7f0ee9-3de6-45b6-9cc3-e0e8745f0e11",
   "metadata": {},
   "outputs": [
    {
     "name": "stdout",
     "output_type": "stream",
     "text": [
      "Brier Score: 0.2403955838920378\n"
     ]
    },
    {
     "data": {
      "image/png": "[encoded data removed]",
      "text/plain": [
       "<Figure size 432x288 with 1 Axes>"
      ]
     },
     "metadata": {
      "needs_background": "light"
     },
     "output_type": "display_data"
    }
   ],
   "source": [
    "from sklearn.metrics import brier_score_loss\n",
    "\n",
    "# Compute the Brier score\n",
    "brier_score = brier_score_loss(y_valid, y_pred_proba)\n",
    "\n",
    "# Print the Brier score\n",
    "print(\"Brier Score:\", brier_score)\n",
    "\n",
    "# Compute the Brier score for a range of probability thresholds\n",
    "thresholds = np.linspace(0, 1, 100)\n",
    "brier_scores = []\n",
    "for threshold in thresholds:\n",
    "    y_pred = (y_pred_proba >= threshold).astype(int)\n",
    "    brier_scores.append(brier_score_loss(y_valid, y_pred))\n",
    "\n",
    "# Plot the Brier score\n",
    "plt.plot(thresholds, brier_scores)\n",
    "plt.xlabel('Probability Threshold')\n",
    "plt.ylabel('Brier Score')\n",
    "plt.title('Brier Score vs. Probability Threshold')\n",
    "plt.show()"
   ]
  },
  {
   "cell_type": "code",
   "execution_count": null,
   "id": "5756b48a-dc2d-4461-94ae-fe1521a43d2c",
   "metadata": {},
   "outputs": [],
   "source": []
  }
 ],
 "metadata": {
  "kernelspec": {
   "display_name": "Python 3 (ipykernel)",
   "language": "python",
   "name": "python3"
  },
  "language_info": {
   "codemirror_mode": {
    "name": "ipython",
    "version": 3
   },
   "file_extension": ".py",
   "mimetype": "text/x-python",
   "name": "python",
   "nbconvert_exporter": "python",
   "pygments_lexer": "ipython3",
   "version": "3.10.4"
  }
 },
 "nbformat": 4,
 "nbformat_minor": 5
}
